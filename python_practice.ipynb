{
 "cells": [
  {
   "cell_type": "code",
   "execution_count": 1,
   "metadata": {},
   "outputs": [
    {
     "name": "stdout",
     "output_type": "stream",
     "text": [
      "У дуб зелёный лукоморья\n"
     ]
    }
   ],
   "source": [
    "#Напишите программу, которая будет принимать строку из слов и возвращать строку, в которой эти слова будут отсортированы в \n",
    "# лексикографическом порядке. Исходная строка содержится в переменной x, результат сохраните в result. \n",
    "#Пример: \n",
    "x = 'У лукоморья дуб зелёный'\n",
    "result = 'У дуб зелёный лукоморья'\n",
    "print(result)\n",
    "words = x.split()\n",
    "words.sort() #sorted(words, key=str.lower)\n",
    "result = ' '.join(words)\n",
    "print(result)\n"
   ]
  },
  {
   "cell_type": "code",
   "execution_count": 8,
   "metadata": {},
   "outputs": [],
   "source": [
    "#Напишите программу, основываясь на вводе и выводе в примерах. \n",
    "# Вводом будет строка a. Результат сохраните в result.  \n",
    "a = \"div*2\"\n",
    "result1 = \"<div></div><div></div>\"\n",
    "b = \"p*1\" \n",
    "result2 = \"<p></p>\"\n",
    "c = \"li*3\"\n",
    "result3= \"<li></li><li></li><li></li>\"\n",
    "\n",
    "library = {a: result1, b: result2, c: result3}\n",
    "for key, value in library.items():\n",
    "    input_string = key\n",
    "    a,b = input_string.split('*')\n",
    "    result = ('<'+a+'></'+a+'>')*int(b)\n",
    "    assert result == value\n",
    "\n"
   ]
  },
  {
   "cell_type": "code",
   "execution_count": 9,
   "metadata": {},
   "outputs": [
    {
     "name": "stdout",
     "output_type": "stream",
     "text": [
      "Я пмню чудне мгнвенье\n"
     ]
    }
   ],
   "source": [
    "#В переменной а сохранено предложение. Удалите из предложения все вхождения слова или символа b. Результат сохраните в result.  \n",
    "\n",
    "a = 'Я помню чудное мгновенье'\n",
    "b = 'о'\n",
    "result = 'Я пмню чудне мгнвенье'\n",
    "\n",
    "for letter in a:\n",
    "    if letter == b:\n",
    "        a = a.replace(letter, '')\n",
    "print (a)"
   ]
  },
  {
   "cell_type": "code",
   "execution_count": 18,
   "metadata": {},
   "outputs": [
    {
     "name": "stdout",
     "output_type": "stream",
     "text": [
      "3 4 5\n",
      "True\n"
     ]
    }
   ],
   "source": [
    "#Напишите программу, которая будет принимать длины сторон треугольника a, b и c, определять, является ли он прямоугольным \n",
    "# и сохранять результат проверки в result в формате True или False. \n",
    "#Прямоугольный треугольник — это треугольник, в котором один угол прямой (то есть 90 градусов).\n",
    "#Самая длинная сторона (гипотенуза) не обязательно будет последним аргументом.\n",
    "#Все аргументы будут целыми числами.\n",
    "#Примеры:\n",
    "\n",
    "\n",
    "\n",
    "a = 70\n",
    "b = 130\n",
    "c = 110\n",
    "result = False\n",
    "\n",
    "a = 3\n",
    "b = 5\n",
    "c = 4\n",
    "result = True\n",
    "\n",
    "hypotenuse =max(a, b, c)\n",
    "b, c = sorted([a, b, c])[:2]\n",
    "print (b, c, hypotenuse)\n",
    "if b**2 + c**2 == hypotenuse**2:\n",
    "    print(True)\n",
    "else:\n",
    "    print(False)\n"
   ]
  },
  {
   "cell_type": "markdown",
   "metadata": {},
   "source": [
    "Eсть словарь grades, содержащий информацию о школьных предметах и их оценках. В список good_subjects  сохраните названия всех предметов, у которых оценка больше или равна 4. \n",
    "Прмеры:\n",
    "\n",
    "grades = {\"Алгебра\": 3, \"ИЗО\": 2}\n",
    "good_subjects = []"
   ]
  },
  {
   "cell_type": "code",
   "execution_count": 23,
   "metadata": {},
   "outputs": [
    {
     "name": "stdout",
     "output_type": "stream",
     "text": [
      "['Математика', 'География']\n"
     ]
    }
   ],
   "source": [
    "grades = {\"Математика\": 4, \"История\": 3, \"Биология\": 3, \"География\": 4}\n",
    "#good_subjects = [\"Математика\", \"География\"]\n",
    "good_subjects = []\n",
    "for key, value in grades.items():\n",
    "    if value >= 4:\n",
    "        good_subjects.append(key)\n",
    "print(good_subjects)"
   ]
  },
  {
   "cell_type": "markdown",
   "metadata": {},
   "source": [
    "Напишите программу, принимающую в виде аргументов два списка lst_1 и lst_2 и определяющую, являются ли они противоположными друг другу. Результат проверки сохраните в result в формате True или False.\n",
    "Каждая пара списков будет состоять из одинаковых элементов (типа a и b). Список считается анти-списком, если все элементы в нем противоположны соответствующим элементам в первом списке.\n",
    "lst_1 = [\"1\", \"0\", \"0\", \"1\"]\n",
    "lst_2 = [\"0\", \"1\", \"1\", \"1\"]\n",
    "result = False"
   ]
  },
  {
   "cell_type": "code",
   "execution_count": 27,
   "metadata": {},
   "outputs": [
    {
     "name": "stdout",
     "output_type": "stream",
     "text": [
      "False\n"
     ]
    }
   ],
   "source": [
    "lst_1 = [\"1\", \"0\", \"0\", \"1\"]\n",
    "lst_2 = [\"0\", \"1\", \"1\", \"0\"]\n",
    "lst_1 = [\"1\", \"0\", \"0\", \"1\"]\n",
    "lst_2 = [\"0\", \"1\", \"1\", \"1\"]\n",
    "#result = True\n",
    "for i, b in zip(lst_1, lst_2):\n",
    "    if i == b:\n",
    "        result = False\n",
    "        break\n",
    "    else:\n",
    "        result = True\n",
    "print(result)"
   ]
  },
  {
   "cell_type": "markdown",
   "metadata": {},
   "source": [
    "Zадана переменная m — список из списков одинаковой длины. Проверьте, что суммы элементов  на диагоналях равны.\n",
    "Результат проверки сохраните в result в формате True или False. \n",
    "Примеры: \n",
    "# Пример 1  \n",
    "result = False"
   ]
  },
  {
   "cell_type": "code",
   "execution_count": 31,
   "metadata": {},
   "outputs": [
    {
     "name": "stdout",
     "output_type": "stream",
     "text": [
      "True\n"
     ]
    }
   ],
   "source": [
    "m =m = [[1, 23, 4], \n",
    "     [3, 2, 1],\n",
    "     [1, 3, 4]]\n",
    "diagonal1, diagonal2 = [], []\n",
    "sum1, sum2 = 0, 0\n",
    "for length, depth in zip(range(len(m[0])), range(len(m))):\n",
    "    #diagonal1.append(m[length][depth])\n",
    "    sum1 += m[length][depth]\n",
    "    sum2 += m[length][len(m[0])-1-depth]\n",
    "    #diagonal2.append(m[length][len(m)-1-depth])\n",
    "reslut = sum1 == sum2\n",
    "print(reslut)"
   ]
  },
  {
   "cell_type": "markdown",
   "metadata": {},
   "source": [
    "Напишите программу, которая принимает словарь input_dict и возвращает строку вида: ключ=значение&ключ=значение \n",
    "Строка должна быть лексикографически отсортирована по ключам исходного словаря. Сохраните полученный ответ в result. \n",
    "Пример:"
   ]
  },
  {
   "cell_type": "code",
   "execution_count": 50,
   "metadata": {},
   "outputs": [
    {
     "name": "stdout",
     "output_type": "stream",
     "text": [
      "course=python&lesson=2&task=21\n"
     ]
    }
   ],
   "source": [
    "input_dict =  {'lesson': 2, 'task': 21, 'course': 'python'}\n",
    "sorted_dict  = dict(sorted(input_dict.items()))\n",
    "result = ''\n",
    "for key, value in sorted_dict.items():\n",
    "    result += (key+'='+str(value)+'&')\n",
    "\n",
    "result = result[:-1]\n",
    "print(result)"
   ]
  },
  {
   "cell_type": "code",
   "execution_count": 56,
   "metadata": {},
   "outputs": [
    {
     "name": "stdout",
     "output_type": "stream",
     "text": [
      "SSttrriinngg\n"
     ]
    }
   ],
   "source": [
    "#Напишите программу, которая принимает одну строку input_str и возвращает другую result, \n",
    "# в которой каждая буква исходной строки повторяется дважды.\n",
    "#Пример:\n",
    "#result = \"SSttrriinngg\"\n",
    "input_str = \"String\"\n",
    "result = ''\n",
    "for letter in input_str:\n",
    "    result += letter*2\n",
    "print(result)\n"
   ]
  },
  {
   "cell_type": "code",
   "execution_count": 62,
   "metadata": {},
   "outputs": [
    {
     "name": "stdout",
     "output_type": "stream",
     "text": [
      "[False, False, True, False, False, False]\n"
     ]
    }
   ],
   "source": [
    "#Напишите программу, которая будет принимать число n и проверять, кратна ли каждая его цифра цифре, \n",
    "# стоящей слева от нее. Ответ сохраните в result в виде массива булевых значений результатов проверок.\n",
    "#result всегда должен начинаться с False, так как слева от первой цифры ничего нет. \n",
    "#Пример:\n",
    "n = 736451\n",
    "#result = [False, False, True, False, True]\n",
    "result = [False]\n",
    "for i in range(1, len(str(n))):\n",
    "    if int(str(n)[i-1]) ==0 or int(str(n)[i]) < int(str(n)[i-1]):\n",
    "        result.append(False)\n",
    "    elif int(str(n)[i]) % int(str(n)[i-1]) == 0:\n",
    "        result.append(True)\n",
    "    else:\n",
    "        result.append(False)\n",
    "print(result)"
   ]
  },
  {
   "cell_type": "code",
   "execution_count": null,
   "metadata": {},
   "outputs": [],
   "source": []
  }
 ],
 "metadata": {
  "kernelspec": {
   "display_name": "Python (venv_name)",
   "language": "python",
   "name": "venv_name"
  },
  "language_info": {
   "codemirror_mode": {
    "name": "ipython",
    "version": 3
   },
   "file_extension": ".py",
   "mimetype": "text/x-python",
   "name": "python",
   "nbconvert_exporter": "python",
   "pygments_lexer": "ipython3",
   "version": "3.11.9"
  }
 },
 "nbformat": 4,
 "nbformat_minor": 2
}
